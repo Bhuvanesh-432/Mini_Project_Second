{
 "cells": [
  {
   "cell_type": "code",
   "execution_count": 1,
   "id": "3fe8f1c9",
   "metadata": {},
   "outputs": [
    {
     "name": "stdout",
     "output_type": "stream",
     "text": [
      "✅ Files saved! Now import them into Power BI.\n"
     ]
    }
   ],
   "source": [
    "import pandas as pd\n",
    "\n",
    "# Load your cleaned stock data\n",
    "df = pd.read_csv(\"cleaned_stock_data.csv\")\n",
    "df['date'] = pd.to_datetime(df['date'])\n",
    "df.sort_values(by=['symbol', 'date'], inplace=True)\n",
    "\n",
    "# --- Create Summary File ---\n",
    "summary = (\n",
    "    df.groupby('symbol')\n",
    "    .agg(\n",
    "        first_close=('close', 'first'),\n",
    "        last_close=('close', 'last'),\n",
    "        avg_volume=('volume', 'mean'),\n",
    "        sector=('sector', 'first')\n",
    "    )\n",
    "    .reset_index()\n",
    ")\n",
    "summary['yearly_return'] = (summary['last_close'] - summary['first_close']) / summary['first_close'] * 100\n",
    "\n",
    "# Save both files\n",
    "summary.to_csv(\"powerbi_stock_summary.csv\", index=False)\n",
    "df.to_csv(\"powerbi_stock_timeseries.csv\", index=False)\n",
    "\n",
    "print(\"✅ Files saved! Now import them into Power BI.\")\n"
   ]
  }
 ],
 "metadata": {
  "kernelspec": {
   "display_name": "Python 3",
   "language": "python",
   "name": "python3"
  },
  "language_info": {
   "codemirror_mode": {
    "name": "ipython",
    "version": 3
   },
   "file_extension": ".py",
   "mimetype": "text/x-python",
   "name": "python",
   "nbconvert_exporter": "python",
   "pygments_lexer": "ipython3",
   "version": "3.13.2"
  }
 },
 "nbformat": 4,
 "nbformat_minor": 5
}
